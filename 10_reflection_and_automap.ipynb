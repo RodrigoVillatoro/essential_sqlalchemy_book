{
 "cells": [
  {
   "cell_type": "code",
   "execution_count": 1,
   "metadata": {},
   "outputs": [],
   "source": [
    "# Create Base Object and initialize an engine\n",
    "\n",
    "from sqlalchemy import create_engine\n",
    "from sqlalchemy.ext.automap import automap_base\n",
    "\n",
    "Base = automap_base()\n",
    "\n",
    "engine = create_engine('sqlite:///Chinook_Sqlite.sqlite')"
   ]
  },
  {
   "cell_type": "code",
   "execution_count": 2,
   "metadata": {},
   "outputs": [],
   "source": [
    "# Scan everything available on the engine with the prepare method\n",
    "\n",
    "Base.prepare(engine, reflect=True)"
   ]
  },
  {
   "cell_type": "code",
   "execution_count": 3,
   "metadata": {},
   "outputs": [
    {
     "data": {
      "text/plain": [
       "['MediaType',\n",
       " 'Album',\n",
       " 'Customer',\n",
       " 'Employee',\n",
       " 'Artist',\n",
       " 'Playlist',\n",
       " 'Genre',\n",
       " 'Invoice',\n",
       " 'Track',\n",
       " 'InvoiceLine']"
      ]
     },
     "execution_count": 3,
     "output_type": "execute_result",
     "metadata": {}
    }
   ],
   "source": [
    "# Print list of objects (tables) in database\n",
    "\n",
    "Base.classes.keys()"
   ]
  },
  {
   "cell_type": "code",
   "execution_count": 4,
   "metadata": {},
   "outputs": [],
   "source": [
    "# Create references to Artists and Album ORM objects\n",
    "\n",
    "Artist = Base.classes.Artist\n",
    "Album = Base.classes.Album"
   ]
  },
  {
   "cell_type": "code",
   "execution_count": 5,
   "metadata": {},
   "outputs": [
    {
     "name": "stdout",
     "output_type": "stream",
     "text": [
      "1 AC/DC\n",
      "2 Accept\n",
      "3 Aerosmith\n",
      "4 Alanis Morissette\n",
      "5 Alice In Chains\n",
      "6 Antônio Carlos Jobim\n",
      "7 Apocalyptica\n",
      "8 Audioslave\n",
      "9 BackBeat\n",
      "10 Billy Cobham\n"
     ]
    }
   ],
   "source": [
    "# Print first 10 artists from Artist table\n",
    "\n",
    "from sqlalchemy.orm import Session\n",
    "\n",
    "session = Session(engine)\n",
    "for artist in session.query(Artist).limit(10):\n",
    "    print(artist.ArtistId, artist.Name)"
   ]
  },
  {
   "cell_type": "code",
   "execution_count": 6,
   "metadata": {},
   "outputs": [
    {
     "name": "stdout",
     "output_type": "stream",
     "text": [
      "AC/DC - For Those About To Rock We Salute You\n",
      "AC/DC - Let There Be Rock\n"
     ]
    }
   ],
   "source": [
    "# Use the relationship between Artist and Album\n",
    "\n",
    "artist = session.query(Artist).first()\n",
    "for album in artist.album_collection:\n",
    "    print('{} - {}'.format(artist.Name, album.Title))"
   ]
  },
  {
   "cell_type": "code",
   "execution_count": null,
   "metadata": {},
   "outputs": [],
   "source": [
    ""
   ]
  }
 ],
 "metadata": {
  "kernelspec": {
   "display_name": "Python 3",
   "language": "python",
   "name": "python3"
  },
  "language_info": {
   "codemirror_mode": {
    "name": "ipython",
    "version": 3.0
   },
   "file_extension": ".py",
   "mimetype": "text/x-python",
   "name": "python",
   "nbconvert_exporter": "python",
   "pygments_lexer": "ipython3",
   "version": "3.5.0"
  }
 },
 "nbformat": 4,
 "nbformat_minor": 0
}